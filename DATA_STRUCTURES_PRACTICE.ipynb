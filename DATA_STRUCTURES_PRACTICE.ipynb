{
  "nbformat": 4,
  "nbformat_minor": 0,
  "metadata": {
    "colab": {
      "provenance": [],
      "include_colab_link": true
    },
    "kernelspec": {
      "name": "python3",
      "display_name": "Python 3"
    },
    "language_info": {
      "name": "python"
    }
  },
  "cells": [
    {
      "cell_type": "markdown",
      "metadata": {
        "id": "view-in-github",
        "colab_type": "text"
      },
      "source": [
        "<a href=\"https://colab.research.google.com/github/nlakshmisoundarya/NPower/blob/main/DATA_STRUCTURES_PRACTICE.ipynb\" target=\"_parent\"><img src=\"https://colab.research.google.com/assets/colab-badge.svg\" alt=\"Open In Colab\"/></a>"
      ]
    },
    {
      "cell_type": "markdown",
      "source": [
        "# **Linear Search**\n",
        "\n",
        "Best-case: O(1)\n",
        "searching for first element in the array.\n",
        "\n",
        "Average-case: O(n)\n",
        "searching elemnt somewhere in the middle of the array.\n",
        "\n",
        "Worst-case: O(n)\n",
        "the element is either not in the array, or it is the last element."
      ],
      "metadata": {
        "id": "2rnq4Cp2ZTEc"
      }
    },
    {
      "cell_type": "code",
      "execution_count": null,
      "metadata": {
        "colab": {
          "base_uri": "https://localhost:8080/"
        },
        "id": "Ksq0kKvyZRHc",
        "outputId": "359df353-b5f0-4789-ec47-c09e3bdaf92a"
      },
      "outputs": [
        {
          "output_type": "stream",
          "name": "stdout",
          "text": [
            "5\n",
            "The search element 5 is found at 5\n"
          ]
        }
      ],
      "source": [
        "array = [8,6,12,23,97,5]\n",
        "search_for = int(input())\n",
        "for search in range(len(array)):\n",
        "  if (search_for == array[search]):\n",
        "    print(\"The search element \"+ str(search_for) +\" is found at \"+ str(search))\n",
        "    break\n",
        "else:\n",
        "  print(\"The search element \"+ str(search_for) +\" is not found in the entire array\")"
      ]
    },
    {
      "cell_type": "code",
      "source": [
        "def linear_search(search_for,array):\n",
        "  for index in range(len(array)):\n",
        "    if (search_for == array[index]):\n",
        "      return index\n",
        "  return -1\n",
        "array = [8,6,12,23,97,5]\n",
        "search_for = int(input())\n",
        "index = linear_search(search_for,array)\n",
        "if index!=-1:\n",
        "  print(\"The search element \"+ str(search_for) +\" is found at index \"+ str(index))\n",
        "else:\n",
        "  print(\"The search element \"+ str(search_for) +\" is not found in the entire array\")"
      ],
      "metadata": {
        "colab": {
          "base_uri": "https://localhost:8080/"
        },
        "id": "SD-rewiHdJ3P",
        "outputId": "50ffdc66-5cab-4704-a975-7fc8e39c6b78"
      },
      "execution_count": null,
      "outputs": [
        {
          "output_type": "stream",
          "name": "stdout",
          "text": [
            "5\n",
            "The search element 5 is found at index 5\n"
          ]
        }
      ]
    },
    {
      "cell_type": "markdown",
      "source": [
        "# **Binary Search**\n",
        "\n",
        "This works only in case of sorted arrays\n",
        "\n",
        "Best-case: O(1)\n",
        "search element is found in middle of the array.\n",
        "\n",
        "Average-case: O(log n)\n",
        "On each comparison, Binary Search halves the search space (by eliminating half of the elements), so the number of comparisons grows logarithmically with respect to the size of the array.\n",
        "\n",
        "Worst-case: O(log n)\n",
        "In the worst-case scenario, Binary Search keeps halving the search space until only one element remains. This also results in a logarithmic number of comparisons."
      ],
      "metadata": {
        "id": "1iso0-7Di-OL"
      }
    },
    {
      "cell_type": "code",
      "source": [
        "array = [6,8,12,23,97]\n",
        "search_for = int(input())\n",
        "low = 0\n",
        "high = len(array)-1\n",
        "\n",
        "while low <= high:\n",
        "  mid = (low+high)//2\n",
        "  if search_for == array[mid]:\n",
        "    index= mid\n",
        "    break\n",
        "  else:\n",
        "    if search_for < array[mid]:\n",
        "      high = mid -1\n",
        "    else:\n",
        "      low = mid +1\n",
        "  index=-1\n",
        "if index != -1:\n",
        "  print(\"The search element \"+ str(search_for) +\" is found at index \"+ str(mid))\n",
        "else:\n",
        "  print(\"The search element \"+ str(search_for) +\" is not found in the entire array\")"
      ],
      "metadata": {
        "colab": {
          "base_uri": "https://localhost:8080/"
        },
        "id": "7CD8-M5ZjDMP",
        "outputId": "d06498aa-494d-4144-ee82-7110bcc8236b"
      },
      "execution_count": null,
      "outputs": [
        {
          "output_type": "stream",
          "name": "stdout",
          "text": [
            "97\n",
            "The search element 97 is found at index 4\n"
          ]
        }
      ]
    },
    {
      "cell_type": "markdown",
      "source": [
        "# **BUBBLE SORT   O(N^2)**\n",
        "\n",
        "\n"
      ],
      "metadata": {
        "id": "VE1xG0meMWEH"
      }
    },
    {
      "cell_type": "code",
      "source": [
        "array = [8,6,23,12,97,1,5,3]\n",
        "a,length = len(array),len(array)\n",
        "steps =0\n",
        "while(length):\n",
        "  steps+=1\n",
        "  for i in range(length-1):\n",
        "    if(array[i]>array[i+1]):\n",
        "      array[i],array[i+1] = array[i+1],array[i]\n",
        "  length-=1\n",
        "print(array)\n",
        "a"
      ],
      "metadata": {
        "id": "uw5xCEJKqids",
        "colab": {
          "base_uri": "https://localhost:8080/"
        },
        "outputId": "299a9b19-1b38-4981-f0bf-850a33f25399"
      },
      "execution_count": null,
      "outputs": [
        {
          "output_type": "stream",
          "name": "stdout",
          "text": [
            "[1, 3, 5, 6, 8, 12, 23, 97]\n"
          ]
        },
        {
          "output_type": "execute_result",
          "data": {
            "text/plain": [
              "8"
            ]
          },
          "metadata": {},
          "execution_count": 58
        }
      ]
    },
    {
      "cell_type": "code",
      "source": [
        "def bubble_sort(array,length):\n",
        "  while(length>1):\n",
        "    for i in range(length-1):\n",
        "      if(array[i]>array[i+1]):\n",
        "        array[i],array[i+1] = array[i+1],array[i]\n",
        "    length-=1\n",
        "  return array\n",
        "array = [8,6,12,23,97,5,1,3,2]\n",
        "length = len(array)\n",
        "answer = bubble_sort(array,length)\n",
        "print(answer)"
      ],
      "metadata": {
        "colab": {
          "base_uri": "https://localhost:8080/"
        },
        "id": "gDCrkxFLN0VT",
        "outputId": "70925475-5e1d-4711-8a8a-0b18f3a3662b"
      },
      "execution_count": null,
      "outputs": [
        {
          "output_type": "stream",
          "name": "stdout",
          "text": [
            "[1, 2, 3, 5, 6, 8, 12, 23, 97]\n"
          ]
        }
      ]
    },
    {
      "cell_type": "markdown",
      "source": [
        "# **BEST CASE OF BUBBLE SORT WHEN ARRAY IS SORTED   O(N)**"
      ],
      "metadata": {
        "id": "QQYkcZ68YiTK"
      }
    },
    {
      "cell_type": "code",
      "source": [
        "def bubble_sort(array, length):\n",
        "    for passnum in range(length - 1):\n",
        "        swapped = False  # Flag to check if any swap happens\n",
        "        for i in range(length - 1 - passnum):  # Inner loop for comparing adjacent elements\n",
        "            if array[i] > array[i + 1]:  # If elements are in wrong order, swap them\n",
        "                array[i], array[i + 1] = array[i + 1], array[i]\n",
        "                swapped = True  # Mark that a swap has occurred\n",
        "        if not swapped:  # If no swap occurred, the array is already sorted\n",
        "            break  # Exit the loop early\n",
        "    return array\n",
        "\n",
        "# Test the optimized Bubble Sort with an already sorted array\n",
        "array = [1, 2, 3, 4, 5]\n",
        "length = len(array)\n",
        "sorted_array = bubble_sort(array, length)\n",
        "print(sorted_array)"
      ],
      "metadata": {
        "colab": {
          "base_uri": "https://localhost:8080/"
        },
        "id": "jTTiNHs2PcBm",
        "outputId": "71ffdba9-5cc5-4966-d47f-1e6e3e24a629"
      },
      "execution_count": null,
      "outputs": [
        {
          "output_type": "stream",
          "name": "stdout",
          "text": [
            "[1, 2, 3, 4, 5]\n"
          ]
        }
      ]
    },
    {
      "cell_type": "code",
      "source": [
        "ratings = [1,2,87,87,87,2,1]\n",
        "count = 0\n",
        "candies = [1] * len(ratings)\n",
        "if len(ratings) == 0:\n",
        "    print(0)\n",
        "elif len(ratings) == 1:\n",
        "    print(1)\n",
        "for i in range(1, len(ratings)):\n",
        "    if ratings[i] > ratings[i - 1]:\n",
        "        candies[i] = candies[i - 1] + 1\n",
        "for i in range(len(ratings) - 2, -1, -1):\n",
        "    if ratings[i] > ratings[i + 1]:\n",
        "        candies[i] = max(candies[i], candies[i + 1] + 1)\n",
        "print(sum(candies))\n"
      ],
      "metadata": {
        "colab": {
          "base_uri": "https://localhost:8080/"
        },
        "id": "-CoootIcgIlk",
        "outputId": "efb8d59d-42db-408c-8ffc-f03434038d6d"
      },
      "execution_count": null,
      "outputs": [
        {
          "output_type": "stream",
          "name": "stdout",
          "text": [
            "13\n"
          ]
        }
      ]
    },
    {
      "cell_type": "code",
      "source": [
        "class Solution(object):\n",
        "    def canCompleteCircuit(self, gas, cost):\n",
        "        \"\"\"\n",
        "        :type gas: List[int]\n",
        "        :type cost: List[int]\n",
        "        :rtype: int\n",
        "        \"\"\"\n",
        "        total_gas = 0\n",
        "        current_gas = 0\n",
        "        start_at = 0\n",
        "        for i in range(len(gas)):\n",
        "            total_gas += gas[i] - cost[i]\n",
        "            current_gas += gas[i] - cost[i]\n",
        "            if current_gas < 0:\n",
        "                start_at = i + 1\n",
        "                current_gas = 0\n",
        "        return start_at if total_gas >= 0 else -1\n",
        "gas = [1,2,3,4,5]\n",
        "cost = [3,4,5,1,2]\n",
        "answer = Solution()\n",
        "print(answer.canCompleteCircuit(gas,cost))"
      ],
      "metadata": {
        "colab": {
          "base_uri": "https://localhost:8080/"
        },
        "id": "lNEHmCCY-S55",
        "outputId": "2838223d-ba2b-4b8c-cb4b-2cbeef4d776a"
      },
      "execution_count": null,
      "outputs": [
        {
          "output_type": "stream",
          "name": "stdout",
          "text": [
            "3\n"
          ]
        }
      ]
    },
    {
      "cell_type": "code",
      "source": [],
      "metadata": {
        "id": "eAI5LMpmTLGR"
      },
      "execution_count": null,
      "outputs": []
    }
  ]
}