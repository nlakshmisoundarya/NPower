{
  "nbformat": 4,
  "nbformat_minor": 0,
  "metadata": {
    "colab": {
      "provenance": [],
      "include_colab_link": true
    },
    "kernelspec": {
      "name": "python3",
      "display_name": "Python 3"
    },
    "language_info": {
      "name": "python"
    }
  },
  "cells": [
    {
      "cell_type": "markdown",
      "metadata": {
        "id": "view-in-github",
        "colab_type": "text"
      },
      "source": [
        "<a href=\"https://colab.research.google.com/github/nlakshmisoundarya/NPower/blob/main/PYTHON.ipynb\" target=\"_parent\"><img src=\"https://colab.research.google.com/assets/colab-badge.svg\" alt=\"Open In Colab\"/></a>"
      ]
    },
    {
      "cell_type": "markdown",
      "source": [
        "Variable names are case-sensitive\n",
        "\n",
        "CAMEL CASE - except 1st word every other word starts with capital letter ex-myVariableName\n",
        "\n",
        "PASCAL CASE - all words start with capital letters ex-MyVariableName\n",
        "\n",
        "SNAKE CASE - each word is separated by a underscore ex-my_variable_name"
      ],
      "metadata": {
        "id": "wKu0oUfRd0Uv"
      }
    },
    {
      "cell_type": "markdown",
      "source": [
        "✅ Chart 1: variable.method() → Modifies the Original (In-place)\n",
        "\n",
        "Data        Type\tMethod\t         Description\n",
        "\n",
        "List\tappend(x)\t    Add item at the end\n",
        "\n",
        "extend(iterable)\t  Add multiple items\n",
        "\n",
        "insert(i, x)\t  Insert at index\n",
        "\n",
        "remove(x)\t  Remove first occurrence\n",
        "\n",
        "pop([i])\t   Remove item (default: last)\n",
        "\n",
        "clear()\tRemove all items\n",
        "\n",
        "sort()\tSort list in-place\n",
        "\n",
        "reverse()\tReverse list in-place\n",
        "\n",
        "Set\tadd(x)\tAdd element\n",
        "\n",
        "remove(x) / discard(x)\tRemove element\n",
        "\n",
        "pop()\tRemove arbitrary item\n",
        "\n",
        "clear()\tRemove all items\n",
        "\n",
        "update(iterable)\tAdd elements from another iterable\n",
        "\n",
        "intersection_update()\tKeep only common elements\n",
        "\n",
        "difference_update()\tRemove shared elements\n",
        "\n",
        "symmetric_difference_update()\tKeep only non-shared elements\n",
        "\n",
        "Dict\tupdate(other)\tAdd/update key-value pairs\n",
        "\n",
        "setdefault(k[,v])\tAdd key if not present\n",
        "\n",
        "pop(k) / popitem()\tRemove items\n",
        "\n",
        "clear()\tRemove all items\n",
        "\n",
        "Tuple\t(none)\tImmutable — cannot be changed\n",
        "\n",
        "\n",
        "🟦 Chart 2: function(variable) → Returns New / Does Not Modify\n",
        "\n",
        "Data Type\tFunction\tDescription\n",
        "\n",
        "List\tsorted(list)\tReturns a new sorted list\n",
        "\n",
        "reversed(list)\tReturns reverse iterator\n",
        "\n",
        "list(iterable)\tConvert to list\n",
        "\n",
        "len(list)\tCount of items\n",
        "\n",
        "sum(list)\tSum of items\n",
        "\n",
        "min(list) / max(list)\tMin/Max value\n",
        "\n",
        "Set\tset(iterable)\tConvert to set\n",
        "\n",
        "sorted(set)\tSorted list from set\n",
        "\n",
        "len(set)\tCount of elements\n",
        "\n",
        "Dict\tdict()\tCreate dictionary\n",
        "\n",
        "len(dict)\tCount of pairs\n",
        "\n",
        "sorted(dict)\tSorted list of keys\n",
        "\n",
        "Tuple\ttuple(iterable)\tConvert to tuple\n",
        "\n",
        "reversed(tuple)\tReverse iterator\n",
        "\n",
        "sorted(tuple)\tSorted list from tuple\n",
        "\n",
        "len(tuple)\tCount of elements\n",
        "\n",
        "\n",
        "🧠 Quick Rule of Thumb:\n",
        "\n",
        "function(variable) → Creates a new value\n",
        "\n",
        "variable.method() → Likely changes it (except tuple, where all are read-only)"
      ],
      "metadata": {
        "id": "eMehx8PtD1va"
      }
    },
    {
      "cell_type": "markdown",
      "source": [
        "**List**\n",
        "\n",
        "Ordered sequence represented with square brackets []\n",
        "\n",
        "Mutable: allows adding, deleting, modifying elements\n",
        "\n",
        "Can contain different data types (strings, integers, floats)\n",
        "\n",
        "Supports positive and negative indexing\n",
        "\n",
        "Allows nesting (lists within lists)\n",
        "\n",
        "Concatenation or appending modifies the same list\n",
        "\n",
        "Supports operations like add, delete, split, etc.\n",
        "\n",
        "Aliasing: multiple names can refer to the same list\n",
        "\n",
        "Cloning: create a copy of a list\n",
        "\n",
        "Elements separated by commas\n",
        "\n"
      ],
      "metadata": {
        "id": "mgftbsVGdMun"
      }
    },
    {
      "cell_type": "markdown",
      "source": [
        "# **List**\n",
        "Ordered, Mutable, allows duplicates\n",
        "\n",
        "Syntax: lst = [1, 2, 3]\n",
        "\n",
        "Method / Operation\tDescription\tExample\n",
        "\n",
        "Indexing / Access element\tlst[1] → 2\n",
        "\n",
        "Append /\tAdd element to end\tlst.append(4)\n",
        "\n",
        "Insert /\tInsert at specific index\tlst.insert(1, \"hi\")\n",
        "\n",
        "Remove /\tRemove first matching value\tlst.remove(2)\n",
        "\n",
        "Slice /\tSub-list\tlst[1:3]\n",
        "\n",
        "Concatenate /\tCombine lists\tlst1 + lst2\n",
        "\n",
        "Clone /\tMake a copy\tcopy = lst[:] or list(lst)\n",
        "\n",
        "Clear /\tRemove all items\tlst.clear()"
      ],
      "metadata": {
        "id": "0Tf-xhpHew8O"
      }
    },
    {
      "cell_type": "markdown",
      "source": [
        "**Dictionary**\n",
        "\n",
        "Collection of key-value pairs using curly brackets {}\n",
        "\n",
        "Keys: must be immutable and unique\n",
        "\n",
        "Values: can be mutable or immutable; duplicates allowed\n",
        "\n",
        "Defined using syntax: {key1: value1, key2: value2, ...}\n",
        "\n",
        "Access values via their keys\n",
        "\n",
        "Supports adding and deleting key-value pairs\n",
        "\n",
        "Can check key existence (returns True or False)\n",
        "\n",
        "Methods available to list keys and values\n",
        "\n",
        "Assign to variables for reuse"
      ],
      "metadata": {
        "id": "MvfD4JAkdVlm"
      }
    },
    {
      "cell_type": "markdown",
      "source": [
        "# **Dictionary**\n",
        "\n",
        "Unordered, key-value pairs, mutable\n",
        "\n",
        "Syntax: d = {\"name\": \"Alice\", \"age\": 25}\n",
        "\n",
        "Method / Operation\tDescription\tExample\n",
        "\n",
        "Access /\tRetrieve value by key\td[\"name\"] → \"Alice\"\n",
        "\n",
        "Add/Update /\tAdd or modify entry\td[\"city\"] = \"Paris\"\n",
        "\n",
        "Delete /\tRemove by key\tdel d[\"age\"]\n",
        "\n",
        "Update() /\tMerge another dict\td.update({\"country\": \"USA\"})\n",
        "\n",
        "Clear() /\tRemove all entries\td.clear()\n",
        "\n",
        "Copy() /\tCreate a shallow copy\tnew_d = d.copy()\n",
        "\n",
        "Keys() /\tGet list of keys\tlist(d.keys())\n",
        "\n",
        "Values() /\tGet list of values\tlist(d.values())\n",
        "\n",
        "Items() /\tGet list of key-value pairs as tuples\tlist(d.items())\n",
        "\n",
        "Key existence\tCheck if key exists\t'name' in d"
      ],
      "metadata": {
        "id": "c-F0niG7fHIG"
      }
    },
    {
      "cell_type": "markdown",
      "source": [
        "**Set**\n",
        "\n",
        "Collection of unique, unordered elements\n",
        "\n",
        "Defined using curly brackets {} or the set() function\n",
        "\n",
        "Automatically removes duplicate items\n",
        "\n",
        "Useful for operations like union, intersection, and difference\n",
        "\n",
        "Supports adding and removing elements\n",
        "\n",
        "Use & for intersection (common elements)\n",
        "\n",
        "Use .union() for union of sets (all unique elements)\n",
        "\n",
        "Use .issubset() to check subset relationship\n",
        "\n",
        "Does not support indexing due to lack of order"
      ],
      "metadata": {
        "id": "f31R6fLadexR"
      }
    },
    {
      "cell_type": "markdown",
      "source": [
        "# **Set**\n",
        "\n",
        "Unordered, No duplicates, Mutable\n",
        "\n",
        "Syntax: s = {1, 2, 3} or set([1, 2, 2])\n",
        "\n",
        "Method / Operation\tDescription\tExample\n",
        "\n",
        "Add() / Add element\ts.add(4)\n",
        "\n",
        "Remove() /\tRemove element (error if not found)\ts.remove(2)\n",
        "\n",
        "Discard() /\tRemove if exists (no error if not found)\ts.discard(5)\n",
        "\n",
        "Pop() /\tRemove arbitrary element\ts.pop()\n",
        "\n",
        "Clear() /\tRemove all elements\ts.clear()\n",
        "\n",
        "Copy() /\tClone set\tnew_s = s.copy()\n",
        "\n",
        "Union() /\tAll unique elements from both sets\ts1.union(s2)\n",
        "\n",
        "Intersection() /\tCommon elements\ts1.intersection(s2)\n",
        "\n",
        "Difference() /\tElements in s1 but not in s2\ts1.difference(s2)\n",
        "\n",
        "Symmetric Difference() /\tNon-common elements from both sets\ts1.\n",
        "symmetric_difference(s2)\n",
        "\n",
        "issubset() /\tCheck subset\ts1.issubset(s2)\n",
        "\n",
        "issuperset() /\tCheck superset\ts1.issuperset(s2)"
      ],
      "metadata": {
        "id": "dvUbC1U4fYCE"
      }
    },
    {
      "cell_type": "markdown",
      "source": [
        "**Tuple**\n",
        "\n",
        "Ordered collection defined using parentheses ()\n",
        "\n",
        "Immutable: elements cannot be changed after creation\n",
        "\n",
        "Can store mixed data types (strings, integers, floats, etc.)\n",
        "\n",
        "Supports positive and negative indexing\n",
        "\n",
        "Can be nested (tuple within a tuple)\n",
        "\n",
        "You can access elements in nested tuples using multiple indexing\n",
        "\n",
        "Supports operations like combining, concatenating, slicing\n",
        "\n",
        "To \"modify\" a tuple, you must create a new one\n",
        "\n",
        "Useful for grouping related, unchanging data"
      ],
      "metadata": {
        "id": "A9bB3ocIdkaV"
      }
    },
    {
      "cell_type": "markdown",
      "source": [
        "# **Tuple**\n",
        "\n",
        "Ordered, Immutable, allows duplicates\n",
        "\n",
        "Syntax: t = (1, \"hello\", 3.5) or t = 1, 2, 3\n",
        "\n",
        "Operation\tDescription\tExample\n",
        "\n",
        "Indexing\tAccess element by index\tt[0] → 1\n",
        "\n",
        "Negative Indexing\tAccess from end\tt[-1] → 3.5\n",
        "\n",
        "Slicing\tGet sub-tuple\tt[1:] → (\"hello\", 3.5)\n",
        "\n",
        "Nesting\tTuples inside tuples\tnested = (1, (2, 3))\n",
        "\n",
        "Concatenation\tJoin tuples\tt1 + t2\n",
        "Length\tCount elements\tlen(t)"
      ],
      "metadata": {
        "id": "gPnyrqqpfn36"
      }
    },
    {
      "cell_type": "code",
      "source": [
        "if 5 > 2:\n",
        " print(\"Five is greater than two!\")\n",
        " print(\"Five is greater than two!\")"
      ],
      "metadata": {
        "id": "YXtUNlGO9jHO"
      },
      "execution_count": null,
      "outputs": []
    },
    {
      "cell_type": "code",
      "source": [
        "\"\"\"\n",
        "This is a comment\n",
        "written in\n",
        "more than just one line\n",
        "\"\"\"\n",
        "print(\"Hello, World!\")"
      ],
      "metadata": {
        "id": "E8ZvxIkNAQuj"
      },
      "execution_count": null,
      "outputs": []
    },
    {
      "cell_type": "code",
      "source": [
        "x=4\n",
        "x='python'\n",
        "print(x)"
      ],
      "metadata": {
        "id": "2jrXVxyHA4Uh"
      },
      "execution_count": null,
      "outputs": []
    },
    {
      "cell_type": "code",
      "source": [
        "x=str(1)\n",
        "y=int(2)\n",
        "z=float(3)\n",
        "print(x,y,z)"
      ],
      "metadata": {
        "id": "OvXdLg0qBDSx"
      },
      "execution_count": null,
      "outputs": []
    },
    {
      "cell_type": "code",
      "source": [
        "#legal variable names\n",
        "myvar = \"John\"\n",
        "my_var = \"John\"\n",
        "_my_var = \"John\"\n",
        "myVar = \"John\"\n",
        "MYVAR = \"John\"\n",
        "myvar12_ = \"John\"\n",
        "#illegal variable names\n",
        "2myvar = \"John\"\n",
        "my-var = \"John\"\n",
        "my var = \"John\""
      ],
      "metadata": {
        "id": "UcHRDHpbBMi0"
      },
      "execution_count": null,
      "outputs": []
    },
    {
      "cell_type": "code",
      "source": [
        "#multiple variables can be assigned in one line\n",
        "x,y,z= 1,'A',3.0 #num of variables should be equal to num of values\n",
        "print(x,y,z)"
      ],
      "metadata": {
        "id": "pzDaVnUQC6jx"
      },
      "execution_count": null,
      "outputs": []
    },
    {
      "cell_type": "code",
      "source": [
        "input = [1,'A',3.0]\n",
        "x,y,z=input\n",
        "print(x,y,z)"
      ],
      "metadata": {
        "id": "6se2BMvyDL3B"
      },
      "execution_count": null,
      "outputs": []
    },
    {
      "cell_type": "code",
      "source": [
        "#GLOBAL VARIABLES -  created outside of a function and can be used anywhere\n",
        "#example-\n",
        "x=5\n",
        "def output():\n",
        "  print(x+10)\n",
        "output()\n",
        "#here x = 5 defines a global variable x.\n",
        "#The function output() does not take any parameters, so it uses the global variable x directly within the function.\n",
        "\n",
        "x=5\n",
        "def output(x):\n",
        "  print(x+10)\n",
        "output(x)\n",
        "#here x = 5 defines a global variable x.\n",
        "#The function output(x) takes x as a parameter. When output(x) is called, it receives the value of the global x (which is 5) as an argument.\n",
        "#Since x is passed as a parameter, the function works independently of the global variable x. This is beneficial when we want to pass different values to output() without relying on a global variable."
      ],
      "metadata": {
        "id": "mSnoww6fDdHd"
      },
      "execution_count": null,
      "outputs": []
    },
    {
      "cell_type": "code",
      "source": [
        "x = \"awesome\"\n",
        "\n",
        "def myfunc():\n",
        "  x = \"fantastic\"\n",
        "  print(\"Python is \" + x)\n",
        "\n",
        "myfunc()\n",
        "\n",
        "print(\"Python is \" + x)"
      ],
      "metadata": {
        "id": "_gh3i8f-GfoS"
      },
      "execution_count": null,
      "outputs": []
    },
    {
      "cell_type": "code",
      "source": [
        "#GLOBAL KEYWORD\n",
        "#any assignment to x inside myfunc() will affect x globally, making it accessible outside the function.\n",
        "def myfunc():\n",
        "  global x\n",
        "  x = \"fantastic\"\n",
        "\n",
        "myfunc()\n",
        "\n",
        "print(\"Python is \" + x)"
      ],
      "metadata": {
        "id": "AvOdXeBJH_qH"
      },
      "execution_count": null,
      "outputs": []
    },
    {
      "cell_type": "code",
      "source": [
        "x='awsome'\n",
        "def myfunc():\n",
        "  global x\n",
        "  x = \"fantastic\"\n",
        "\n",
        "myfunc()\n",
        "\n",
        "print(\"Python is \" + x)"
      ],
      "metadata": {
        "id": "Dd7hML3ZIRNb"
      },
      "execution_count": null,
      "outputs": []
    },
    {
      "cell_type": "code",
      "source": [
        "#DATA TYPES\n",
        "Text Type:\tstr \"\" or ''\n",
        "Numeric Types:\tint, float, complex\n",
        "Sequence Types:\tlist ['',''], tuple('',''), range => range(number)\n",
        "Mapping Type:\tdict {'':'', '':integer}\n",
        "Set Types:\tset {'',''}, frozenset ({'',''})\n",
        "Boolean Type:\tbool\n",
        "Binary Types:\tbytes, bytenumay, memoryview => memoryview(bytes)\n",
        "None Type:\tNoneType"
      ],
      "metadata": {
        "id": "2Dm5KE1yIiWy"
      },
      "execution_count": null,
      "outputs": []
    },
    {
      "cell_type": "code",
      "source": [
        "#Bytes\n",
        "#Bytes are an immutable sequence of bytes, often used for binary data like files or network resources.\n",
        "\n",
        "x = bytes([72, 101, 108, 108, 111])\n",
        "print(x)\n",
        "------------------------------------------------------------------------------------------------------------------------\n",
        "#Bytenumay\n",
        "#A bytenumay is a mutable sequence of bytes, meaning you can modify its contents. It’s useful for modifying binary data.\n",
        "x = bytenumay(b\"Hello\")\n",
        "x[0] = 74          # Modifies the first byte\n",
        "print(x)           # Output: bytenumay(b'Jello')\n",
        "#Initializing a bytenumay with a specific size\n",
        "x = bytenumay(5)   # Creates a bytenumay of 5 bytes, all set to zero\n",
        "print(x)           # Output: bytenumay(b'\\x00\\x00\\x00\\x00\\x00')\n",
        "#Appending bytes to a bytenumay\n",
        "x = bytenumay(b\"Hi\")\n",
        "x.extend(b\" there\")\n",
        "print(x)           # Output: bytenumay(b'Hi there')\n",
        "------------------------------------------------------------------------------------------------------------------------\n",
        "#Memoryview\n",
        "#A memoryview provides a way to access the internal data of an object without copying, which can be useful for handling large data efficiently.\n",
        "\n",
        "#Creating a memoryview from a bytes object\n",
        "x = bytes([10, 20, 30, 40, 50])\n",
        "mv = memoryview(x)\n",
        "print(mv[1])       # Output: 20 (Accessing second byte)\n",
        "#Creating a memoryview from a bytenumay and modifying it\n",
        "x = bytenumay(b\"Hello\")\n",
        "mv = memoryview(x)\n",
        "mv[1] = 74         # Modify the second byte\n",
        "print(x)           # Output: bytenumay(b'HJllo')\n",
        "#Slicing a memoryview\n",
        "x = bytes([1, 2, 3, 4, 5])\n",
        "mv = memoryview(x)\n",
        "print(mv[1:4].tolist())  # Output: [2, 3, 4]"
      ],
      "metadata": {
        "id": "ikRVggjVtESE"
      },
      "execution_count": null,
      "outputs": []
    },
    {
      "cell_type": "code",
      "source": [
        "x = bytenumay(b\"Hello\")\n",
        "mv = memoryview(x)\n",
        "mv[0] = 74\n",
        "print(x)\n",
        "\n",
        "\n",
        "y = bytenumay(b\"Hello\")\n",
        "y[0] = 74\n",
        "print(y)"
      ],
      "metadata": {
        "id": "zGe83o9atFQ4"
      },
      "execution_count": null,
      "outputs": []
    },
    {
      "cell_type": "code",
      "source": [
        "#NUMBERS\n",
        "#Complex numbers are written with a \"j\" as the imaginary part:\n",
        "#1+2j or 3j or -4j\n",
        "\n",
        "#TYPE CONVERSIONS\n",
        "x=1\n",
        "y=2.3\n",
        "z=4j\n",
        "a=-5\n",
        "\n",
        "z1=float(x)\n",
        "z1\n",
        "\n",
        "#we can not convert complex numbers to any other types"
      ],
      "metadata": {
        "id": "ZtZtQyHG_4JT"
      },
      "execution_count": null,
      "outputs": []
    },
    {
      "cell_type": "code",
      "source": [
        "#we can get random numbers by importing random module\n",
        "import random\n",
        "print(random.randint(1,10))"
      ],
      "metadata": {
        "id": "FcyWlhadb0iV"
      },
      "execution_count": null,
      "outputs": []
    },
    {
      "cell_type": "code",
      "source": [
        "#STRINGS\n",
        "#\"in\" keyword in strings if to find the presence of a particular character or a phrase in a string\n",
        "\n",
        "#slicing => [:]\n",
        "#string from start is 0,1,2,3...imdexed and -1,-2,-3....from back\n",
        "# .lower()   .upper()   .strip()-removes whitespaces from beginning or end   .replace('given','to replace with')\n",
        "#The split() method returns a list where the text between the specified separator becomes the list items.\n",
        "string = \"Hello, My name is Soundarya. I am currently looking for job opportunities, to start my career.\"\n",
        "print(string.split('.'))\n",
        "# + in tsrings is used to concat strings\n",
        "#FORMAT STRINGS\n",
        "age = 24\n",
        "print(f\"I am Soundarya. I am {age} years old.\") #using fstrings\n",
        "print(\"My age is {}\".format(age))\n",
        "print(\"My age is %d .\" %(age))\n",
        "print(f\"{age:.2f}\")"
      ],
      "metadata": {
        "id": "qGIa1kkK7vJm"
      },
      "execution_count": null,
      "outputs": []
    },
    {
      "cell_type": "code",
      "source": [
        "# In the regular string regular_string variable, the backslashes (\\n) are interpreted as escape sequences.\n",
        "# Therefore, \\n represents a newline character, which would lead to an incorrect file path representation.\n",
        "regular_string = \"C:\\new_folder\\file.txt\"\n",
        "print(\"Regular String:\", regular_string)\n",
        "\n",
        "raw_string = r\"C:\\new_folder\\file.txt\"\n",
        "print(\"raw String:\", raw_string)"
      ],
      "metadata": {
        "id": "bD6jWXSzAGo9"
      },
      "execution_count": null,
      "outputs": []
    },
    {
      "cell_type": "code",
      "source": [
        "string = \"   Hello\\t, World! 12345 - Python is FUN.      \"\n",
        "string2=\"hello123\"\n",
        "print(string.capitalize()) #Capitalizes only the first character and makes the rest of the string lowercase, if it has uppercase letters\n",
        "print(string.casefold()) #converts the entire string to lowercase.\n",
        "\n",
        "#string.center(width, fillchar)\n",
        "print(string.center(50))\n",
        "print(string.center(50,'-'))\n",
        "\n",
        "print(string.count('o'))\n",
        "\n",
        "#string.encode(encoding='utf-8', errors='strict')\n",
        "#encoding: Specifies the type of encoding to be used (e.g., \"utf-8\", \"ascii\", \"latin-1\"). The default is \"utf-8\".\n",
        "#errors: Specifies how to handle encoding errors. Options include:\n",
        "#\"strict\" (default): Raises a UnicodeEncodeError for characters that can’t be encoded.\n",
        "#\"ignore\": Ignores characters that can’t be encoded.\n",
        "#\"replace\": Replaces characters that can’t be encoded with a placeholder, usually ? in most encodings.\n",
        "print(string.encode())\n",
        "\n",
        "print(string.endswith('a'))  #true or false\n",
        "print(string.expandtabs())  #syntax : string.expandtabs(tabsize=8) tabsize: An optional parameter specifying the number of spaces each tab character should be replaced with. The default is 8.\n",
        "\n",
        "print(string.find(','))\n",
        "# print(string.format()) #\"some text {}\".format(value)\n",
        "# print(string.format_map())#some text {key1} and {key2}\".format_map(mapping to a defined dictionary)\n",
        "print(string.index('1'))\n",
        "print(string2.isalnum()) #checks if the string is alphanumeric i.e has only numbers and alphabets\n",
        "print(string.isalpha()) #checks if the string has only alphabets\n",
        "print(string.isascii()) #True if all characters are within ASCII range\n",
        "print(string.isdecimal()) #Checks if all characters are decimals (only valid for numeric strings).\n",
        "print(string.isdigit()) #Checks if all characters are digits.\n",
        "print(string.isidentifier()) #Checks if the string is a valid Python identifier (no spaces, special chars, or starting with digits).\n",
        "print(string.islower()) #checks if all are lower cased\n",
        "print(string.isnumeric()) #checks if all are only numbers\n",
        "print(string.isprintable()) #checks if all characters are printable\n",
        "print(string.isspace()) #checks if all characters are whitespaces\n",
        "print(string.isupper()) #checks if all are upper cased\n",
        "print(len(string))\n",
        "\n",
        "print(string.join(['First','Last'])) #places the whole string in between\n",
        "print(\"-\".join(['First','Last','Middle'])) #any separator is used to join each element in the list\n",
        "\n",
        "print(string.strip()) #removes whitespaces\n",
        "print(string.lstrip()) #removes left whitespaces\n",
        "print(string.rstrip())  #removes right whitespaces\n",
        "\n",
        "print(string.translate(str.maketrans(\"l1!\",\"j9$\"))) #translates the mentiones characters\n",
        "print(string.replace('123','987'))\n",
        "print(string.rfind('p')) #gives last occurance of character and -1 if not found case sensitive\n",
        "print(string.rindex('l')) #same like rfind but throws error if charcater is not found case sensitive\n",
        "\n",
        "print(string.rjust(50,'-')) #vale should be greater that len of str and right justifies => adds at left shifting string to right\n",
        "print(string.ljust(50,'-')) #value greater than lenght of string will become - at end as left justifies adding to right\n",
        "\n",
        "print(string.partition(\"o\")) #SEARCH FROM FRONT splits the string into three parts\n",
        "print(string.rpartition('o')) #SEARCH FROM END\n",
        "\n",
        "print(string.split(\"o\",1)) #LOOKS FROM LEFT 1idicates num of chars to take\n",
        "print(string.rsplit(\"o\")) #LOOKS FROM RIGHT no number means search all\n",
        "print(string.splitlines()) #splits the string at line breaks i.r at \\t\n",
        "\n",
        "print(string.startswith(\" \")) #true/false\n",
        "\n",
        "print(string.swapcase()) #Lowe to Upper and vise-ver-sa\n",
        "\n",
        "print(string.istitle()) #Checks if the string is title-cased (each word starts with an uppercase letter).\n",
        "print(string.title()) #converts first char of each word to upper\n",
        "\n",
        "print(string.zfill(50)) #pads string with 0 until it reaches specified lenght"
      ],
      "metadata": {
        "id": "t9Jal_deC60t"
      },
      "execution_count": null,
      "outputs": []
    },
    {
      "cell_type": "code",
      "source": [
        "i1 = \"Hello\\t, world! 12345 - python is fun.\"\n",
        "print(i1.capitalize())\n",
        "print(repr(i1.capitalize())) ## Shows the exact content, including the tab"
      ],
      "metadata": {
        "id": "fmwI2qUKDqeP"
      },
      "execution_count": null,
      "outputs": []
    },
    {
      "cell_type": "code",
      "source": [
        "print(isinstance(30,float)) #checks if is of same instance or not\n",
        "print(x:='string') #assigns value"
      ],
      "metadata": {
        "id": "AwMnWaV4H1lv"
      },
      "execution_count": null,
      "outputs": []
    },
    {
      "cell_type": "code",
      "source": [
        "data_2x4 = [(1, 2, 3, 4), (5, 6, 7, 8)]\n",
        "\n",
        "# Unzipping the matrix (splitting the elements into separate groups)\n",
        "unzipped_2x4 = zip(*data_2x4)\n",
        "print(\"Unzipped 2x4:\", list(unzipped_2x4))\n",
        "\n",
        "# Transposing the matrix (swapping rows and columns)\n",
        "transposed_2x4 = list(zip(*data_2x4))\n",
        "print(\"Transposed 2x4:\", transposed_2x4)"
      ],
      "metadata": {
        "id": "YDEKroUNoiQ0"
      },
      "execution_count": null,
      "outputs": []
    },
    {
      "cell_type": "markdown",
      "source": [
        "# **Python** **Collections** (**numays**)\n",
        "\n",
        "There are four collection data types in the Python programming language:\n",
        "\n",
        "List is a collection which is ordered and changeable. Allows duplicate members.\n",
        "\n",
        "Tuple is a collection which is ordered and unchangeable. Allows duplicate members.\n",
        "\n",
        "Set is a collection which is unordered, unchangeable*, and unindexed. No duplicate members.\n",
        "*Set items are unchangeable, but you can remove and/or add items whenever you like.\n",
        "\n",
        "\n",
        "\n",
        "Dictionary is a collection which is ordered** and changeable. No duplicate members. **in earlier version of python dictionaries were unordered."
      ],
      "metadata": {
        "id": "XY0dkAagF1QL"
      }
    },
    {
      "cell_type": "markdown",
      "source": [
        "# **LIST**\n",
        "\n",
        "INSERT - to insert at specific index.\n",
        "\n",
        "APPEND - add at the end, only 1 item.\n",
        "\n",
        "EXTEND - to append elements from another list to the current list, this method does not have to append lists, we can add any iterable object (tuples, sets, dictionaries etc.)\n",
        "\n",
        "REMOVE - removes specific value, if more than 1 present then 1st occurance will be removed.\n",
        "\n",
        "POP - to remove from specific index. if not mentioned any index say only pop(), this removes last item.\n",
        "\n",
        "CLEAR - this will clear the list but not delete it completely.\n",
        "\n",
        "del keyword can be used to delete from any index or the whole list. ex:- del mylist[index].\n",
        "\n"
      ],
      "metadata": {
        "id": "Mpai8yikHz1V"
      }
    },
    {
      "cell_type": "code",
      "source": [
        "class Solution(object):\n",
        "    def rotate(self, nums, k):\n",
        "        \"\"\"\n",
        "        :type nums: List[int]\n",
        "        :type k: int\n",
        "        :rtype: None Do not return anything, modify nums in-place instead.\n",
        "        \"\"\"\n",
        "        # temp = []\n",
        "        # i = 0\n",
        "        # n=len(nums)\n",
        "        # k=n-k\n",
        "        # while (i < k):\n",
        "        #     temp.append(nums[i])\n",
        "        #     i = i + 1\n",
        "        # i = 0\n",
        "        # while (k < n):\n",
        "        #     nums[i] = nums[k]\n",
        "        #     i = i + 1\n",
        "        #     k = k + 1\n",
        "        # nums[:] = nums[: i] + temp\n",
        "        # return nums\n",
        "        k%=len(nums)\n",
        "        nums = nums[-k:]+nums[:-k]\n",
        "\n",
        "# Example usage\n",
        "nums = [1,2,3,4,5,6,7]\n",
        "k = 3\n",
        "solution = Solution()\n",
        "length = solution.rotate(nums,k)\n",
        "print(length)\n"
      ],
      "metadata": {
        "id": "7rVZsjfYqnAT"
      },
      "execution_count": null,
      "outputs": []
    },
    {
      "cell_type": "code",
      "source": [
        "nums = [1,2,3,4,5,6,7]\n",
        "# nums = nums[3:]+nums[:3] #letf\n",
        "nums = nums[-3:]+nums[:-3] #right\n",
        "nums"
      ],
      "metadata": {
        "id": "KcA_IDd4fFkx"
      },
      "execution_count": null,
      "outputs": []
    },
    {
      "cell_type": "code",
      "source": [
        "class Solution(object):\n",
        "    def maxProfit(self, prices):\n",
        "        \"\"\"\n",
        "        :type prices: List[int]\n",
        "        :rtype: int\n",
        "        \"\"\"\n",
        "        minimum = min(prices)\n",
        "        index = prices.index(minimum)\n",
        "        if (len(prices)==1):\n",
        "            return 0\n",
        "        elif(index==len(prices)-1):\n",
        "            minimum = min(prices[:index])\n",
        "            index = prices.index(minimum)\n",
        "        maximum = max(prices[index:])\n",
        "        maximum\n",
        "        profit = maximum - minimum\n",
        "        return profit\n",
        "prices = [3,2,6,5,0,3]\n",
        "solution = Solution()\n",
        "answer = solution.maxProfit(prices)\n",
        "print(answer)"
      ],
      "metadata": {
        "id": "DVhPfOnmrFSJ"
      },
      "execution_count": null,
      "outputs": []
    },
    {
      "cell_type": "code",
      "source": [
        "for i, x in enumerate(['A', 'B', 'C']):\n",
        "    print(i + 1, x)"
      ],
      "metadata": {
        "colab": {
          "base_uri": "https://localhost:8080/"
        },
        "id": "n-isbH-V3z1_",
        "outputId": "18e1b438-250f-4dac-9b43-539e30f33df9"
      },
      "execution_count": null,
      "outputs": [
        {
          "output_type": "stream",
          "name": "stdout",
          "text": [
            "1 A\n",
            "2 B\n",
            "3 C\n"
          ]
        }
      ]
    },
    {
      "cell_type": "code",
      "source": [
        "class Points(object):\n",
        "    def __init__(self, x, y):\n",
        "        self.x = x\n",
        "        self.y = y\n",
        "    def print_point(self):\n",
        "        print('x=', self.x, ' y=', self.y)\n",
        "p2 = Points(1, 2)\n",
        "p2.x = 2\n",
        "p2.print_point()"
      ],
      "metadata": {
        "colab": {
          "base_uri": "https://localhost:8080/"
        },
        "id": "UO5MDyXy30cA",
        "outputId": "f031c0e1-5b5f-4f1c-8a7a-77874bcec4f4"
      },
      "execution_count": null,
      "outputs": [
        {
          "output_type": "stream",
          "name": "stdout",
          "text": [
            "x= 2  y= 2\n"
          ]
        }
      ]
    },
    {
      "cell_type": "code",
      "source": [
        "import os\n",
        "\n",
        "file_path = '/content/data.csv'  # Paste the path here\n",
        "\n",
        "if os.path.exists(file_path):\n",
        "    os.remove(file_path)\n",
        "    print(\"File deleted.\")\n",
        "else:\n",
        "    print(\"File not found.\")\n"
      ],
      "metadata": {
        "id": "dJECOJbW4WN5"
      },
      "execution_count": null,
      "outputs": []
    }
  ]
}